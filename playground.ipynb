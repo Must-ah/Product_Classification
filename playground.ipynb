{
 "cells": [
  {
   "cell_type": "code",
   "execution_count": 1,
   "source": [
    "import os\n",
    "os.environ[\"CUDA_VISIBLE_DEVICES\"]='1'\n",
    "import torch.nn as nn\n",
    "from torchinfo import summary\n",
    "from torch.nn import functional as F\n",
    "import os\n",
    "\n",
    "\n",
    "class Net(nn.Module):\n",
    "    def __init__(self):\n",
    "        super(Net, self).__init__()\n",
    "        self.conv1 = nn.Conv2d(3, 10, kernel_size=5,dilation=2)\n",
    "        self.conv2 = nn.Conv2d(10, 20, kernel_size=5,dilation=2)\n",
    "        self.conv3 = nn.Conv2d(20, 30, kernel_size=5,dilation=2)\n",
    "        self.conv4 = nn.Conv2d(30, 40, kernel_size=5)\n",
    "        self.conv2_drop = nn.Dropout2d()\n",
    "        self.fc1 = nn.Linear(7200, 50)\n",
    "        self.fc2 = nn.Linear(50, 10)\n",
    "\n",
    "    def forward(self, x):\n",
    "        x = F.mish(F.max_pool2d(self.conv1(x), 2))\n",
    "        x = F.mish(F.max_pool2d(self.conv2_drop(self.conv2(x)), 2))\n",
    "        x = F.mish(F.max_pool2d(self.conv2_drop(self.conv3(x)), 2))\n",
    "        x = F.mish(F.max_pool2d(self.conv2_drop(self.conv4(x)), 2))\n",
    "        \n",
    "        \n",
    "        x = x.view(-1, 7200)\n",
    "        x = F.mish(self.fc1(x))\n",
    "        x = F.dropout(x, training=self.training)\n",
    "        x = self.fc2(x)\n",
    "        return F.log_softmax(x, dim=1)\n"
   ],
   "outputs": [],
   "metadata": {}
  },
  {
   "cell_type": "code",
   "execution_count": 2,
   "source": [
    "model = Net()\n",
    "summary(model)"
   ],
   "outputs": [
    {
     "output_type": "execute_result",
     "data": {
      "text/plain": [
       "=================================================================\n",
       "Layer (type:depth-idx)                   Param #\n",
       "=================================================================\n",
       "Net                                      --\n",
       "├─Conv2d: 1-1                            760\n",
       "├─Conv2d: 1-2                            5,020\n",
       "├─Conv2d: 1-3                            15,030\n",
       "├─Conv2d: 1-4                            30,040\n",
       "├─Dropout2d: 1-5                         --\n",
       "├─Linear: 1-6                            360,050\n",
       "├─Linear: 1-7                            510\n",
       "=================================================================\n",
       "Total params: 411,410\n",
       "Trainable params: 411,410\n",
       "Non-trainable params: 0\n",
       "================================================================="
      ]
     },
     "metadata": {},
     "execution_count": 2
    }
   ],
   "metadata": {}
  },
  {
   "cell_type": "code",
   "execution_count": 3,
   "source": [
    "print(model)"
   ],
   "outputs": [
    {
     "output_type": "stream",
     "name": "stdout",
     "text": [
      "Net(\n",
      "  (conv1): Conv2d(3, 10, kernel_size=(5, 5), stride=(1, 1), dilation=(2, 2))\n",
      "  (conv2): Conv2d(10, 20, kernel_size=(5, 5), stride=(1, 1), dilation=(2, 2))\n",
      "  (conv3): Conv2d(20, 30, kernel_size=(5, 5), stride=(1, 1), dilation=(2, 2))\n",
      "  (conv4): Conv2d(30, 40, kernel_size=(5, 5), stride=(1, 1))\n",
      "  (conv2_drop): Dropout2d(p=0.5, inplace=False)\n",
      "  (fc1): Linear(in_features=7200, out_features=50, bias=True)\n",
      "  (fc2): Linear(in_features=50, out_features=10, bias=True)\n",
      ")\n"
     ]
    }
   ],
   "metadata": {}
  },
  {
   "cell_type": "code",
   "execution_count": 4,
   "source": [
    "summary(model, input_size=(5,3,198,198))"
   ],
   "outputs": [
    {
     "output_type": "execute_result",
     "data": {
      "text/plain": [
       "==========================================================================================\n",
       "Layer (type:depth-idx)                   Output Shape              Param #\n",
       "==========================================================================================\n",
       "Net                                      --                        --\n",
       "├─Conv2d: 1-1                            [5, 10, 190, 190]         760\n",
       "├─Conv2d: 1-2                            [5, 20, 87, 87]           5,020\n",
       "├─Dropout2d: 1-3                         [5, 20, 87, 87]           --\n",
       "├─Conv2d: 1-4                            [5, 30, 35, 35]           15,030\n",
       "├─Dropout2d: 1-5                         [5, 30, 35, 35]           --\n",
       "├─Conv2d: 1-6                            [5, 40, 13, 13]           30,040\n",
       "├─Dropout2d: 1-7                         [5, 40, 13, 13]           --\n",
       "├─Linear: 1-8                            [1, 50]                   360,050\n",
       "├─Linear: 1-9                            [1, 10]                   510\n",
       "==========================================================================================\n",
       "Total params: 411,410\n",
       "Trainable params: 411,410\n",
       "Non-trainable params: 0\n",
       "Total mult-adds (M): 444.97\n",
       "==========================================================================================\n",
       "Input size (MB): 2.35\n",
       "Forward/backward pass size (MB): 22.24\n",
       "Params size (MB): 1.65\n",
       "Estimated Total Size (MB): 26.23\n",
       "=========================================================================================="
      ]
     },
     "metadata": {},
     "execution_count": 4
    }
   ],
   "metadata": {}
  }
 ],
 "metadata": {
  "orig_nbformat": 4,
  "language_info": {
   "name": "python",
   "version": "3.9.7",
   "mimetype": "text/x-python",
   "codemirror_mode": {
    "name": "ipython",
    "version": 3
   },
   "pygments_lexer": "ipython3",
   "nbconvert_exporter": "python",
   "file_extension": ".py"
  },
  "kernelspec": {
   "name": "python3",
   "display_name": "Python 3.9.7 64-bit ('umu-pytorch': conda)"
  },
  "interpreter": {
   "hash": "52604bc78b09674e91f4fa9bc994d961bb2ba050c8b816e2c0e907b2766bc32f"
  }
 },
 "nbformat": 4,
 "nbformat_minor": 2
}