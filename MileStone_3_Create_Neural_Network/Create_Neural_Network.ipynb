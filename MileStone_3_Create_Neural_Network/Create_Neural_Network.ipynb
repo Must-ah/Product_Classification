{
 "cells": [
  {
   "cell_type": "markdown",
   "metadata": {},
   "source": [
    "# Mustafas Privet model Zoo LoL\n"
   ]
  },
  {
   "cell_type": "code",
   "execution_count": 1,
   "metadata": {},
   "outputs": [
    {
     "name": "stdout",
     "output_type": "stream",
     "text": [
      "Writing WillyNetBestModel.py\n"
     ]
    }
   ],
   "source": [
    "# %%writefile WillyNet.py\n",
    "\n",
    "from torch import nn\n",
    "from torch.nn import functional as F\n",
    "import torch\n",
    "# device = torch.device('cuda:0')\n",
    "\n",
    "\n",
    "def conv(inChannels, outChannels, dilation, groups, dropProbability=0, kernalSize=3):\n",
    "    \"\"\"\n",
    "        Creates the convolution layer that consist of:\n",
    "        conv2d, batchNorm2d and Mish activation function lastly also a dropout\n",
    "    \"\"\"\n",
    "    return (\n",
    "        nn.Conv2d(in_channels=inChannels, out_channels=outChannels, kernel_size=kernalSize, stride=1, dilation=dilation, groups=groups\n",
    "                  ), nn.BatchNorm2d(outChannels), nn.Mish(inplace=True), nn.Dropout2d(dropProbability, inplace=True)\n",
    "    )\n",
    "\n",
    "\n",
    "def willy_block(inChannels, outChannels, dilation, groups, dropProbability=0, kernalSize=3):\n",
    "    # return conv(inChannels,outChannels,dilation,groups,dropProbability=dropProbability,kernalSize=kernalSize)\n",
    "    return nn.Sequential(*conv(inChannels, outChannels, dilation, groups, dropProbability=dropProbability, kernalSize=kernalSize))\n",
    "\n",
    "\n",
    "def fullyConnected(inFeatures, outFeatures):\n",
    "    \"\"\"\n",
    "        Creates the standard fully connected layer consist of:\n",
    "        Linear, barchNorm1d and Mish activation functino\n",
    "    \"\"\"\n",
    "    return (\n",
    "\n",
    "        # nn.BatchNorm1d(num_features=inFeatures),\n",
    "        nn.Linear(in_features=inFeatures, out_features=outFeatures),\n",
    "        nn.BatchNorm1d(outFeatures),\n",
    "        nn.Mish(inplace=True)\n",
    "    )\n",
    "\n",
    "\n",
    "def willy_fullyConnected_block(inFeatures, outFeatures):\n",
    "    return nn.Sequential(*fullyConnected(inFeatures, outFeatures))\n",
    "\n",
    "\n",
    "def willy_prediction_block(inFeatures, outFeatures):\n",
    "    return nn.Sequential(\n",
    "        nn.Linear(in_features=inFeatures, out_features=outFeatures),\n",
    "        nn.BatchNorm1d(outFeatures),\n",
    "        # nn.Mish(inplace=True)\n",
    "        # F.log_softmax(outFeatures,dim=1)\n",
    "    )\n",
    "\n",
    "\n",
    "class WillyNet(nn.Module):\n",
    "    \"\"\"\n",
    "    A CNN designed by Mustafa A-Hussein to predict what category the product is in an image.\n",
    "    The goal of the design was to satisfy my curiosity and to gain experince in designing Neural Network Architectures\n",
    "    I also wanted to explore how Mish activation function compares with others such like ReLU.\n",
    "    Args:\n",
    "        s (int): how many channel should the first conv2d layer have.\n",
    "        ToDo add output (int): to decide how many classes you want.\n",
    "        ToDo add desired shape i.e., how many convolution layer you want with their shape\n",
    "        ToDo cont: decide how many fully connected layer you want.\n",
    "\n",
    "    \"\"\"\n",
    "\n",
    "    def __init__(self, s=20) -> None:  # s = nr_channels_out\n",
    "        super(WillyNet, self).__init__()\n",
    "\n",
    "        # the first layer, takes in 3 channel input (RGB) image\n",
    "        self.conv1 = willy_block(inChannels=3, outChannels=s*3,\n",
    "                                 dilation=5, groups=3, dropProbability=0.0,\n",
    "                                 kernalSize=20)\n",
    "\n",
    "        self.conv2 = willy_block(inChannels=s*3, outChannels=s*3,\n",
    "                                 dilation=3, groups=4, dropProbability=0.00,\n",
    "                                 kernalSize=16)\n",
    "\n",
    "        self.conv3 = willy_block(inChannels=s*3, outChannels=s*2,\n",
    "                                 dilation=2, groups=2, dropProbability=0.00,\n",
    "                                 kernalSize=14)\n",
    "\n",
    "        self.conv4 = willy_block(inChannels=s*2, outChannels=s*1,\n",
    "                                 dilation=1, groups=1, dropProbability=0.00,\n",
    "                                 kernalSize=12)\n",
    "\n",
    "        self.conv5 = willy_block(inChannels=s*1, outChannels=s,\n",
    "                                 dilation=1, groups=1, dropProbability=0,\n",
    "                                 kernalSize=8)\n",
    "\n",
    "        # This part I did do manually until I was satisfied with the architecture of the model\n",
    "        self.flatten = nn.Flatten()\n",
    "        self.fullyConnectedLayer = willy_fullyConnected_block(\n",
    "            inFeatures=3920, outFeatures=512)\n",
    "        self.predictionLayer = willy_prediction_block(\n",
    "            inFeatures=512, outFeatures=18)\n",
    "\n",
    "    def forward(self, x):\n",
    "        # Convolution part\n",
    "        x = self.conv1(x)\n",
    "        x = self.conv2(x)\n",
    "        x = self.conv3(x)\n",
    "        x = self.conv4(x)\n",
    "        x = self.conv5(x)\n",
    "\n",
    "        # fully connected part\n",
    "        x = self.flatten(x)\n",
    "        x = self.fullyConnectedLayer(x)\n",
    "        x = self.predictionLayer(x)\n",
    "        return F.log_softmax(x, dim=1)\n",
    "\n",
    "\n",
    "# myNet = WillyNet()\n",
    "# from torchinfo import summary\n",
    "# summary(myNet)\n"
   ]
  },
  {
   "cell_type": "code",
   "execution_count": null,
   "metadata": {},
   "outputs": [],
   "source": [
    "from torchinfo import summary\n",
    "myNet = WillyNet()\n",
    "summary(myNet, input_size=(5, 3, 198, 198))\n"
   ]
  },
  {
   "cell_type": "code",
   "execution_count": null,
   "metadata": {},
   "outputs": [],
   "source": []
  },
  {
   "cell_type": "markdown",
   "metadata": {},
   "source": [
    "# Let us compare our model with different pretrained models such as AlexNet and mnasnet0_5"
   ]
  },
  {
   "cell_type": "code",
   "execution_count": null,
   "metadata": {},
   "outputs": [],
   "source": [
    "from torch import nn\n",
    "from torchvision import models\n",
    "from torchinfo import summary\n",
    "import torch\n",
    "pretrained = models.mnasnet0_5(pretrained=True)"
   ]
  },
  {
   "cell_type": "code",
   "execution_count": null,
   "metadata": {},
   "outputs": [],
   "source": [
    "%%writefile WillyMnasNet0_5.py\n",
    "from torch import nn\n",
    "from torchvision import models\n",
    "#from torchinfo import summary\n",
    "#import torch\n",
    "#pretrained = models.mnasnet0_5(pretrained=True)\n",
    "\n",
    "class MyMnasNet0_5(nn.Module):\n",
    "    def __init__(self, my_pretrained_model=models.mnasnet0_5(pretrained=True)):\n",
    "        super(MyMnasNet0_5, self).__init__()\n",
    "        self.pretrained = my_pretrained_model\n",
    "        self.nr_ftrs = self.pretrained.classifier[1].in_features\n",
    "        self.pretrained.classifier[1] = nn.Linear(self.nr_ftrs, out_features=18, bias=True)\n",
    "    def forward(self, x):\n",
    "        x = self.pretrained(x)\n",
    "        return nn.functional.log_softmax(x,dim=1)\n",
    "\n",
    "#willyMnasnet0_5 = MyMnasNet0_5(pretrained)\n",
    "#summary(willyMnasnet0_5)"
   ]
  },
  {
   "cell_type": "code",
   "execution_count": null,
   "metadata": {},
   "outputs": [],
   "source": [
    "from WillyMnasNet0_5 import MyMnasNet0_5\n",
    "\n",
    "willyMnasnet0_5 = MyMnasNet0_5()\n",
    "for param in willyMnasnet0_5.parameters():\n",
    "    param.requires_grad = False\n",
    "#nr_ftr = pretrained.classifier[1].in_features\n",
    "#pretrained.classifier[1] = nn.Linear(nr_ftr,18)\n",
    "print(willyMnasnet0_5)\n",
    "#summary(willyMnasnet0_5)"
   ]
  },
  {
   "cell_type": "code",
   "execution_count": null,
   "metadata": {},
   "outputs": [],
   "source": [
    "from torchinfo import summary\n",
    "for param in willyMnasnet0_5.pretrained.classifier[-1].parameters():\n",
    "    param.requires_grad = True\n",
    "summary(willyMnasnet0_5)"
   ]
  },
  {
   "cell_type": "code",
   "execution_count": null,
   "metadata": {},
   "outputs": [],
   "source": [
    "%%writefile WillyAlexNet.py\n",
    "from torch import nn\n",
    "from torchvision import models\n",
    "#from torchinfo import summary\n",
    "#import torch\n",
    "#pretrained = models.alexnet(pretrained=True)\n",
    "\n",
    "class MyAlexNet(nn.Module):\n",
    "    def __init__(self, my_pretrained_model = models.alexnet(pretrained=True),number_classes=18):\n",
    "        super(MyAlexNet, self).__init__()\n",
    "        num_ftrs = my_pretrained_model.classifier[-1].in_features\n",
    "        my_pretrained_model.classifier[-1] = nn.Linear(num_ftrs, out_features=number_classes, bias=True)\n",
    "        self.WillyAlexNet = my_pretrained_model\n",
    "\n",
    "    def forward(self, x):\n",
    "        x = self.WillyAlexNet(x)\n",
    "        return nn.functional.log_softmax(x,dim=1)\n",
    "#willyAlexNet = MyAlexNet()\n",
    "#print(willyAlexNet)"
   ]
  },
  {
   "cell_type": "code",
   "execution_count": null,
   "metadata": {},
   "outputs": [],
   "source": [
    "from WillyAlexNet import MyAlexNet\n",
    "from torchinfo import summary\n",
    "\n",
    "willyAlexNet = MyAlexNet()\n",
    "print(willyAlexNet)\n"
   ]
  },
  {
   "cell_type": "code",
   "execution_count": null,
   "metadata": {},
   "outputs": [],
   "source": [
    "summary(willyAlexNet, input_size=(5,3,198,198))"
   ]
  },
  {
   "cell_type": "code",
   "execution_count": null,
   "metadata": {},
   "outputs": [],
   "source": [
    "import os\n",
    "os.environ[\"CUDA_VISIBLE_DEVICES\"]='1'\n",
    "\n",
    "from torchvision import models\n",
    "alexx = models.alexnet(pretrained=True)\n",
    "summary(alexx,input_size=(5,3,198,198))"
   ]
  },
  {
   "cell_type": "code",
   "execution_count": null,
   "metadata": {},
   "outputs": [],
   "source": [
    "assert torch.cuda.is_available()\n",
    "device = torch.device('cuda:0')\n",
    "torch.backends.cudnn.benchmark = True\n"
   ]
  },
  {
   "cell_type": "code",
   "execution_count": null,
   "metadata": {},
   "outputs": [],
   "source": [
    "import os\n",
    "os.environ[\"CUDA_VISIBLE_DEVICES\"]='1'\n",
    "\n",
    "from torchvision import models\n",
    "from torchinfo import summary\n",
    "alexx = models.shufflenet_v2_x1_0(pretrained=True)\n",
    "summary(alexx,input_size=(400,3,198,198))"
   ]
  },
  {
   "cell_type": "code",
   "execution_count": null,
   "metadata": {},
   "outputs": [],
   "source": [
    "from torchinfo import summary\n",
    "from torchvision import models\n",
    "import os\n",
    "os.environ[\"CUDA_VISIBLE_DEVICES\"] = '1'\n",
    "\n",
    "alexx = models.shufflenet_v2_x0_5(pretrained=True)\n",
    "summary(alexx, input_size=(400, 3, 198, 198))\n"
   ]
  },
  {
   "cell_type": "code",
   "execution_count": null,
   "metadata": {},
   "outputs": [],
   "source": [
    "import os\n",
    "from torchvision import models\n",
    "from torchinfo import summary\n",
    "\n",
    "os.environ[\"CUDA_VISIBLE_DEVICES\"] = '1'\n",
    "\n",
    "alexx = models.shufflenet_v2_x1_5(pretrained=False)\n",
    "summary(alexx, input_size=(400, 3, 198, 198))\n"
   ]
  },
  {
   "cell_type": "code",
   "execution_count": null,
   "metadata": {},
   "outputs": [],
   "source": [
    "import os\n",
    "from torchvision import models\n",
    "from torchinfo import summary\n",
    "\n",
    "os.environ[\"CUDA_VISIBLE_DEVICES\"] = '1'\n",
    "\n",
    "alexx = models.shufflenet_v2_x2_0(pretrained=False)\n",
    "summary(alexx, input_size=(400, 3, 198, 198))\n"
   ]
  },
  {
   "cell_type": "code",
   "execution_count": null,
   "metadata": {},
   "outputs": [],
   "source": [
    "from torchinfo import summary\n",
    "from torchvision import models\n",
    "import os\n",
    "os.environ[\"CUDA_VISIBLE_DEVICES\"] = '1'\n",
    "\n",
    "alexx = models.shufflenet_v2_x0_5(pretrained=True)\n",
    "summary(alexx, input_size=(400, 3, 198, 198))\n"
   ]
  },
  {
   "cell_type": "code",
   "execution_count": null,
   "metadata": {},
   "outputs": [],
   "source": [
    "%%writefile WillysShuffleNet_v2_x1_0.py\n",
    "from torch import nn\n",
    "from torchvision import models\n",
    "#from torchinfo import summary\n",
    "#import torch\n",
    "\n",
    "class myShuffleNet_v2_x1_0(nn.Module):\n",
    "    def __init__(self, my_pretrained_model = models.shufflenet_v2_x0_5(pretrained=True),number_classes=18):\n",
    "        super(myShuffleNet_v2_x1_0, self).__init__()\n",
    "        num_ftrs = my_pretrained_model.fc.in_features\n",
    "        my_pretrained_model.fc = nn.Linear(num_ftrs, out_features=number_classes, bias=True)\n",
    "        self.myShuffleNet_v2_x1_0 = my_pretrained_model\n",
    "\n",
    "    def forward(self, x):\n",
    "        x = self.myShuffleNet_v2_x1_0(x)\n",
    "        return nn.functional.log_softmax(x,dim=1)\n",
    "\n",
    "#willyAlexNet = myShuffleNet_v2_x1_0()\n",
    "#print(willyAlexNet)"
   ]
  },
  {
   "cell_type": "code",
   "execution_count": null,
   "metadata": {},
   "outputs": [],
   "source": [
    "summary(willyAlexNet, input_size=(400, 3, 198, 198))\n"
   ]
  },
  {
   "cell_type": "code",
   "execution_count": null,
   "metadata": {},
   "outputs": [],
   "source": []
  }
 ],
 "metadata": {
  "interpreter": {
   "hash": "0bf86de19e6908e90672858f1bf900381ae778a88ca47b5d35f6eb2214d9bffa"
  },
  "kernelspec": {
   "display_name": "Python 3.9.7 64-bit ('umu-pytorch': conda)",
   "name": "python3"
  },
  "language_info": {
   "codemirror_mode": {
    "name": "ipython",
    "version": 3
   },
   "file_extension": ".py",
   "mimetype": "text/x-python",
   "name": "python",
   "nbconvert_exporter": "python",
   "pygments_lexer": "ipython3",
   "version": "3.9.7"
  },
  "orig_nbformat": 4
 },
 "nbformat": 4,
 "nbformat_minor": 2
}
