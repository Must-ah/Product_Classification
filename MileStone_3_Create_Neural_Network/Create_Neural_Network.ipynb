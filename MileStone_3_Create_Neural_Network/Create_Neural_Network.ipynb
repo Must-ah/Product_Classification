{
 "cells": [
  {
   "cell_type": "code",
   "execution_count": null,
   "source": [
    "\n",
    "from torch import nn\n",
    "from torchvision import models\n",
    "from torchinfo import summary\n",
    "import torch\n",
    "assert torch.cuda.is_available()\n",
    "device = torch.device('cuda:0')\n",
    "torch.backends.cudnn.benchmark = True\n",
    "pretrained = models.mnasnet0_5(pretrained=True)\n",
    "\n",
    "\n",
    "class MyAlexNet(nn.Module):\n",
    "    def __init__(self, my_pretrained_model):\n",
    "        super(MyAlexNet, self).__init__()\n",
    "        self.pretrained = my_pretrained_model\n",
    "        self.my_new_layers = nn.Linear(1000, out_features=18, bias=True)\n",
    "\n",
    "    def forward(self, x):\n",
    "        x = self.pretrained(x)\n",
    "        x = self.my_new_layers(x)\n",
    "        return x\n"
   ],
   "outputs": [],
   "metadata": {}
  },
  {
   "cell_type": "code",
   "execution_count": 2,
   "source": [
    "# %%writefile WillyNet.py\n",
    "\n",
    "from torch import nn\n",
    "from torch.nn import functional as F\n",
    "import torch\n",
    "device = torch.device('cuda:0')\n",
    "\n",
    "def conv(inChannels,outChannels,dilation,groups,dropProbability=0,kernalSize=3):\n",
    "    \"\"\"\n",
    "        Creates the convolution layer that consist of:\n",
    "        conv2d, batchNorm2d and Mish activation function lastly also a dropout\n",
    "    \"\"\"\n",
    "    return (\n",
    "        nn.Conv2d(in_channels=inChannels, out_channels=outChannels\n",
    "        ,kernel_size=kernalSize, stride=1, dilation=dilation,groups=groups\n",
    "        )\n",
    "    , nn.BatchNorm2d(outChannels)\n",
    "    , nn.Mish(inplace=True)\n",
    "    , nn.Dropout2d(dropProbability,inplace=True)\n",
    "    )\n",
    "\n",
    "def willy_block(inChannels,outChannels,dilation,groups,dropProbability=0,kernalSize=3):\n",
    "    #return conv(inChannels,outChannels,dilation,groups,dropProbability=dropProbability,kernalSize=kernalSize)\n",
    "    return nn.Sequential(*conv(inChannels,outChannels,dilation,groups,dropProbability=dropProbability,kernalSize=kernalSize))\n",
    "\n",
    "\n",
    "def fullyConnected(inFeatures,outFeatures):\n",
    "    \"\"\"\n",
    "        Creates the standard fully connected layer consist of:\n",
    "        Linear, barchNorm1d and Mish activation functino\n",
    "    \"\"\"\n",
    "    return (\n",
    "        nn.Linear(in_features=inFeatures, out_features=outFeatures),\n",
    "        nn.BatchNorm1d(num_features=outFeatures),\n",
    "        nn.Mish(inplace=True)\n",
    "        )\n",
    "\n",
    "def willy_fullyConnected_block(inFeatures,outFeatures):\n",
    "    return nn.Sequential(*fullyConnected(inFeatures,outFeatures))\n",
    "\n",
    "def willy_prediction_block(inFeatures,outFeatures):\n",
    "    return nn.Sequential(\n",
    "        nn.Linear(in_features=inFeatures, out_features=outFeatures),\n",
    "        nn.BatchNorm1d(num_features=outFeatures),\n",
    "        nn.Mish(inplace=True)\n",
    "        # F.log_softmax(outFeatures,dim=1)\n",
    "        )\n",
    "\n",
    "class WillyNet(nn.Module):\n",
    "    \"\"\"\n",
    "    A CNN designed by Mustafa A-Hussein to predict what category the product is in an image.\n",
    "    The goal of the design was to satisfy my curiosity and to gain experince in designing Neural Network Architectures\n",
    "    I also wanted to explore how Mish activation function compares with others such like ReLU.\n",
    "\n",
    "    Args:\n",
    "        s (int): how many channel should the first conv2d layer have.\n",
    "        ToDo add output (int): to decide how many classes you want.\n",
    "        ToDo add desired shape i.e., how many convolution layer you want with their shape\n",
    "        ToDo cont: decide how many fully connected layer you want.\n",
    "    \n",
    "    \"\"\"\n",
    "    def __init__(self,s=20) -> None: # s = nr_channels_out        \n",
    "        super(WillyNet,self).__init__()\n",
    "\n",
    "        # the first layer, takes in 3 channel input (RGB) image\n",
    "        self.conv1 = willy_block(inChannels=3,outChannels=s*9,\n",
    "         dilation=4, groups=3, dropProbability=0.5,\n",
    "         kernalSize=22)\n",
    "        \n",
    "        self.conv2 = willy_block(inChannels= s*9, outChannels= s*7,\n",
    "        dilation= 3, groups=4, dropProbability=0.25,\n",
    "        kernalSize=18)\n",
    "        \n",
    "        self.conv3 = willy_block(inChannels=s*7,outChannels= s*5, \n",
    "        dilation=2, groups=2, dropProbability=0.25,\n",
    "        kernalSize=16)\n",
    "        \n",
    "        self.conv4 = willy_block(inChannels=s*5,outChannels= s*3, \n",
    "        dilation=1, groups=1, dropProbability=0.25,\n",
    "        kernalSize=12)\n",
    "        \n",
    "        self.conv5 = willy_block(inChannels= s*3,outChannels=s,\n",
    "        dilation=1, groups=1, dropProbability=0,\n",
    "         kernalSize=4)\n",
    "        \n",
    "        # This part I did do manually until I was satisfied with the archetecture of the model\n",
    "        self.flatten = nn.Flatten()\n",
    "        self.fullyConnectedLayer = willy_fullyConnected_block(inFeatures=7220,outFeatures=100)        \n",
    "        self.predictionLayer = willy_prediction_block(inFeatures=100,outFeatures=18)\n",
    "       \n",
    "       \n",
    "       \n",
    "\n",
    "    def forward(self,x):\n",
    "        # Convolution part\n",
    "        x = self.conv1(x)\n",
    "        x = self.conv2(x)\n",
    "        x = self.conv3(x)\n",
    "        x = self.conv4(x)\n",
    "        x = self.conv5(x)\n",
    "        \n",
    "        # fully connected part\n",
    "        x = self.flatten(x)\n",
    "        x = self.fullyConnectedLayer(x)       \n",
    "        out = self.predictionLayer(x)\n",
    "\n",
    "        return out\n",
    "\n",
    "        \n",
    "\n",
    "# myNet = WillyNet()"
   ],
   "outputs": [
    {
     "output_type": "stream",
     "name": "stdout",
     "text": [
      "Overwriting WillyNet.py\n"
     ]
    }
   ],
   "metadata": {}
  },
  {
   "cell_type": "code",
   "execution_count": 2,
   "source": [
    "from torchinfo import summary\n",
    "myNet = WillyNet()\n",
    "summary(myNet)\n",
    "# summary(myNet,input_size=(2,3,198,198))\n"
   ],
   "outputs": [
    {
     "output_type": "execute_result",
     "data": {
      "text/plain": [
       "=================================================================\n",
       "Layer (type:depth-idx)                   Param #\n",
       "=================================================================\n",
       "WillyNet                                 --\n",
       "├─Sequential: 1-1                        --\n",
       "│    └─Conv2d: 2-1                       87,300\n",
       "│    └─BatchNorm2d: 2-2                  360\n",
       "│    └─Mish: 2-3                         --\n",
       "│    └─Dropout2d: 2-4                    --\n",
       "├─Sequential: 1-2                        --\n",
       "│    └─Conv2d: 2-5                       2,041,340\n",
       "│    └─BatchNorm2d: 2-6                  280\n",
       "│    └─Mish: 2-7                         --\n",
       "│    └─Dropout2d: 2-8                    --\n",
       "├─Sequential: 1-3                        --\n",
       "│    └─Conv2d: 2-9                       1,792,100\n",
       "│    └─BatchNorm2d: 2-10                 200\n",
       "│    └─Mish: 2-11                        --\n",
       "│    └─Dropout2d: 2-12                   --\n",
       "├─Sequential: 1-4                        --\n",
       "│    └─Conv2d: 2-13                      864,060\n",
       "│    └─BatchNorm2d: 2-14                 120\n",
       "│    └─Mish: 2-15                        --\n",
       "│    └─Dropout2d: 2-16                   --\n",
       "├─Sequential: 1-5                        --\n",
       "│    └─Conv2d: 2-17                      19,220\n",
       "│    └─BatchNorm2d: 2-18                 40\n",
       "│    └─Mish: 2-19                        --\n",
       "│    └─Dropout2d: 2-20                   --\n",
       "├─Flatten: 1-6                           --\n",
       "├─Sequential: 1-7                        --\n",
       "│    └─Linear: 2-21                      722,100\n",
       "│    └─BatchNorm1d: 2-22                 200\n",
       "│    └─Mish: 2-23                        --\n",
       "├─Sequential: 1-8                        --\n",
       "│    └─Linear: 2-24                      1,818\n",
       "│    └─BatchNorm1d: 2-25                 36\n",
       "│    └─Mish: 2-26                        --\n",
       "=================================================================\n",
       "Total params: 5,529,174\n",
       "Trainable params: 5,529,174\n",
       "Non-trainable params: 0\n",
       "================================================================="
      ]
     },
     "metadata": {},
     "execution_count": 2
    }
   ],
   "metadata": {}
  },
  {
   "cell_type": "code",
   "execution_count": 3,
   "source": [
    "\n",
    "print(myNet)"
   ],
   "outputs": [
    {
     "output_type": "stream",
     "name": "stdout",
     "text": [
      "WillyNet(\n",
      "  (conv1): Sequential(\n",
      "    (0): Conv2d(3, 180, kernel_size=(22, 22), stride=(1, 1), dilation=(4, 4), groups=3)\n",
      "    (1): BatchNorm2d(180, eps=1e-05, momentum=0.1, affine=True, track_running_stats=True)\n",
      "    (2): Mish(inplace=True)\n",
      "    (3): Dropout2d(p=0.5, inplace=True)\n",
      "  )\n",
      "  (conv2): Sequential(\n",
      "    (0): Conv2d(180, 140, kernel_size=(18, 18), stride=(1, 1), dilation=(3, 3), groups=4)\n",
      "    (1): BatchNorm2d(140, eps=1e-05, momentum=0.1, affine=True, track_running_stats=True)\n",
      "    (2): Mish(inplace=True)\n",
      "    (3): Dropout2d(p=0.25, inplace=True)\n",
      "  )\n",
      "  (conv3): Sequential(\n",
      "    (0): Conv2d(140, 100, kernel_size=(16, 16), stride=(1, 1), dilation=(2, 2), groups=2)\n",
      "    (1): BatchNorm2d(100, eps=1e-05, momentum=0.1, affine=True, track_running_stats=True)\n",
      "    (2): Mish(inplace=True)\n",
      "    (3): Dropout2d(p=0.25, inplace=True)\n",
      "  )\n",
      "  (conv4): Sequential(\n",
      "    (0): Conv2d(100, 60, kernel_size=(12, 12), stride=(1, 1))\n",
      "    (1): BatchNorm2d(60, eps=1e-05, momentum=0.1, affine=True, track_running_stats=True)\n",
      "    (2): Mish(inplace=True)\n",
      "    (3): Dropout2d(p=0.25, inplace=True)\n",
      "  )\n",
      "  (conv5): Sequential(\n",
      "    (0): Conv2d(60, 20, kernel_size=(4, 4), stride=(1, 1))\n",
      "    (1): BatchNorm2d(20, eps=1e-05, momentum=0.1, affine=True, track_running_stats=True)\n",
      "    (2): Mish(inplace=True)\n",
      "    (3): Dropout2d(p=0, inplace=True)\n",
      "  )\n",
      "  (flatten): Flatten(start_dim=1, end_dim=-1)\n",
      "  (fullyConnectedLayer): Sequential(\n",
      "    (0): Linear(in_features=7220, out_features=100, bias=True)\n",
      "    (1): BatchNorm1d(100, eps=1e-05, momentum=0.1, affine=True, track_running_stats=True)\n",
      "    (2): Mish(inplace=True)\n",
      "  )\n",
      "  (predictionLayer): Sequential(\n",
      "    (0): Linear(in_features=100, out_features=18, bias=True)\n",
      "    (1): BatchNorm1d(18, eps=1e-05, momentum=0.1, affine=True, track_running_stats=True)\n",
      "    (2): Mish(inplace=True)\n",
      "  )\n",
      ")\n"
     ]
    }
   ],
   "metadata": {}
  },
  {
   "cell_type": "code",
   "execution_count": 9,
   "source": [
    "random_data = torch.randn((2,3,198,198),requires_grad=True)\n",
    "target = torch.empty(2,dtype=torch.long).random_(18)\n",
    "result = myNet(random_data)\n",
    "print(result, result.shape)\n",
    "print('-----')\n",
    "print(result[0])\n",
    "print('-----')\n",
    "print(result[1])\n",
    "print('-----')\n",
    "print(target.shape)\n",
    "\n",
    "print('-----')\n",
    "print(target[0])\n"
   ],
   "outputs": [
    {
     "output_type": "stream",
     "name": "stdout",
     "text": [
      "tensor([[-0.3034,  0.8643,  0.8642, -0.3034, -0.3028,  0.8649, -0.3028, -0.3032,\n",
      "         -0.3034,  0.8608,  0.8647, -0.3034, -0.3034,  0.8650,  0.8650, -0.3034,\n",
      "          0.8651,  0.8650],\n",
      "        [ 0.8651, -0.3034, -0.3034,  0.8645,  0.8551, -0.3034,  0.8549,  0.8619,\n",
      "          0.8651, -0.3032, -0.3034,  0.8651,  0.8650, -0.3034, -0.3034,  0.8651,\n",
      "         -0.3034, -0.3034]], grad_fn=<MishBackward>) torch.Size([2, 18])\n",
      "-----\n",
      "tensor([-0.3034,  0.8643,  0.8642, -0.3034, -0.3028,  0.8649, -0.3028, -0.3032,\n",
      "        -0.3034,  0.8608,  0.8647, -0.3034, -0.3034,  0.8650,  0.8650, -0.3034,\n",
      "         0.8651,  0.8650], grad_fn=<SelectBackward>)\n",
      "-----\n",
      "tensor([ 0.8651, -0.3034, -0.3034,  0.8645,  0.8551, -0.3034,  0.8549,  0.8619,\n",
      "         0.8651, -0.3032, -0.3034,  0.8651,  0.8650, -0.3034, -0.3034,  0.8651,\n",
      "        -0.3034, -0.3034], grad_fn=<SelectBackward>)\n",
      "-----\n",
      "torch.Size([2])\n",
      "-----\n",
      "tensor(15)\n"
     ]
    }
   ],
   "metadata": {}
  },
  {
   "cell_type": "code",
   "execution_count": 10,
   "source": [
    "softm = F.log_softmax(result)\n",
    "softm[0], softm.shape\n"
   ],
   "outputs": [
    {
     "output_type": "stream",
     "name": "stderr",
     "text": [
      "/tmp/ipykernel_249584/2320773684.py:1: UserWarning: Implicit dimension choice for log_softmax has been deprecated. Change the call to include dim=X as an argument.\n",
      "  softm = F.log_softmax(result)\n"
     ]
    },
    {
     "output_type": "execute_result",
     "data": {
      "text/plain": [
       "(tensor([-3.6358, -2.4681, -2.4682, -3.6358, -3.6353, -2.4676, -3.6353, -3.6357,\n",
       "         -3.6358, -2.4716, -2.4677, -3.6358, -3.6358, -2.4675, -2.4674, -3.6358,\n",
       "         -2.4674, -2.4674], grad_fn=<SelectBackward>),\n",
       " torch.Size([2, 18]))"
      ]
     },
     "metadata": {},
     "execution_count": 10
    }
   ],
   "metadata": {}
  },
  {
   "cell_type": "code",
   "execution_count": null,
   "source": [],
   "outputs": [],
   "metadata": {}
  },
  {
   "cell_type": "code",
   "execution_count": 11,
   "source": [
    "loss = nn.CrossEntropyLoss()\n",
    "outt = loss(softm,target)\n",
    "outt.backward()"
   ],
   "outputs": [],
   "metadata": {}
  },
  {
   "cell_type": "code",
   "execution_count": 12,
   "source": [
    "outt"
   ],
   "outputs": [
    {
     "output_type": "execute_result",
     "data": {
      "text/plain": [
       "tensor(3.6350, grad_fn=<NllLossBackward>)"
      ]
     },
     "metadata": {},
     "execution_count": 12
    }
   ],
   "metadata": {}
  }
 ],
 "metadata": {
  "orig_nbformat": 4,
  "language_info": {
   "name": "python",
   "version": "3.9.7",
   "mimetype": "text/x-python",
   "codemirror_mode": {
    "name": "ipython",
    "version": 3
   },
   "pygments_lexer": "ipython3",
   "nbconvert_exporter": "python",
   "file_extension": ".py"
  },
  "kernelspec": {
   "name": "python3",
   "display_name": "Python 3.9.7 64-bit ('umu-pytorch': conda)"
  },
  "interpreter": {
   "hash": "52604bc78b09674e91f4fa9bc994d961bb2ba050c8b816e2c0e907b2766bc32f"
  }
 },
 "nbformat": 4,
 "nbformat_minor": 2
}