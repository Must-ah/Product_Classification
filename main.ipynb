{
 "cells": [
  {
   "cell_type": "code",
   "execution_count": 1,
   "source": [
    "from MileStone_1_Training_Validation_data_Setup.load_data_from_ImageFolder import load_data_from_ImageFolder\n"
   ],
   "outputs": [
    {
     "output_type": "error",
     "ename": "ModuleNotFoundError",
     "evalue": "No module named 'MileStone_1_Training_Validation_data_Setup.load_data_from_ImageFolder'",
     "traceback": [
      "\u001b[0;31m---------------------------------------------------------------------------\u001b[0m",
      "\u001b[0;31mModuleNotFoundError\u001b[0m                       Traceback (most recent call last)",
      "\u001b[0;32m<ipython-input-1-1354a752009b>\u001b[0m in \u001b[0;36m<module>\u001b[0;34m\u001b[0m\n\u001b[0;32m----> 1\u001b[0;31m \u001b[0;32mfrom\u001b[0m \u001b[0mMileStone_1_Training_Validation_data_Setup\u001b[0m\u001b[0;34m.\u001b[0m\u001b[0mload_data_from_ImageFolder\u001b[0m \u001b[0;32mimport\u001b[0m \u001b[0mload_data_from_ImageFolder\u001b[0m\u001b[0;34m\u001b[0m\u001b[0;34m\u001b[0m\u001b[0m\n\u001b[0m",
      "\u001b[0;31mModuleNotFoundError\u001b[0m: No module named 'MileStone_1_Training_Validation_data_Setup.load_data_from_ImageFolder'"
     ]
    }
   ],
   "metadata": {}
  }
 ],
 "metadata": {
  "orig_nbformat": 4,
  "language_info": {
   "name": "python",
   "version": "3.9.2",
   "mimetype": "text/x-python",
   "codemirror_mode": {
    "name": "ipython",
    "version": 3
   },
   "pygments_lexer": "ipython3",
   "nbconvert_exporter": "python",
   "file_extension": ".py"
  },
  "kernelspec": {
   "name": "python3",
   "display_name": "Python 3.9.2 64-bit ('umu-pytorch': conda)"
  },
  "interpreter": {
   "hash": "52604bc78b09674e91f4fa9bc994d961bb2ba050c8b816e2c0e907b2766bc32f"
  }
 },
 "nbformat": 4,
 "nbformat_minor": 2
}