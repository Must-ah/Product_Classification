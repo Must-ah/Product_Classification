{
 "cells": [
  {
   "cell_type": "code",
   "execution_count": null,
   "metadata": {},
   "outputs": [],
   "source": [
    "import os\n",
    "source_dir = \"../Dataset_Willys_2020/ORGINAL/\"\n",
    "target_dir = os.listdir(source_dir)\n",
    "print(target_dir)"
   ]
  },
  {
   "cell_type": "code",
   "execution_count": null,
   "metadata": {},
   "outputs": [],
   "source": [
    "from PIL import Image\n",
    "from glob import glob\n",
    "for cat in target_dir:\n",
    "    temp_path = os.path.join(source_dir,cat)\n",
    "    cat_img = sorted(glob(os.path.join(temp_path,\"*.jpg\")))\n",
    "    for img in cat_img:\n",
    "        orig_img = Image.open(img)\n",
    "        if orig_img.size != (198,198):\n",
    "            print(img, '--', orig_img.size)\n",
    "            if os.path.isfile(img):\n",
    "                os.remove(img)\n",
    "            else:\n",
    "                print(\"Error %s file not found\" %img)\n",
    "            "
   ]
  },
  {
   "cell_type": "code",
   "execution_count": null,
   "metadata": {},
   "outputs": [],
   "source": []
  },
  {
   "cell_type": "markdown",
   "metadata": {},
   "source": [
    "from torchvision.datasets import ImageFolder\n",
    "from torchvision.transforms import AutoAugmentPolicy, AutoAugment,RandomApply   \n",
    "\n",
    "polices = [AutoAugmentPolicy.CIFAR10,AutoAugmentPolicy.IMAGENET, AutoAugmentPolicy.SVHN]\n",
    "augments = [AutoAugment(policy) for policy in polices]\n",
    "\n",
    "applier = RandomApply(transforms=augments, p=[0.2, 0.4, 0.4])\n",
    "dataset = ImageFolder(root=source_dir, transform=applier)\n"
   ]
  },
  {
   "cell_type": "code",
   "execution_count": null,
   "metadata": {},
   "outputs": [],
   "source": [
    "#%%writefile load_data.py\n",
    "\n",
    "from typing import Optional, Callable\n",
    "\n",
    "from torchvision.transforms import AutoAugmentPolicy, AutoAugment, RandomApply, Compose, ToTensor\n",
    "from torchvision.datasets import ImageFolder\n",
    "\n",
    "\n",
    "\n",
    "\n",
    "def load_data_from_ImageFolder(root:str, transform:Optional[Callable]=None):\n",
    "    \"\"\"Takes path of the root directory for the images\n",
    "    creates a dataset using pytorch ImageFolder class\n",
    "    using AutoAugment for CIFAR,IMAGENET, SVHN with probability \n",
    "    p=[0.2, 0.4, 0.4] if transform is not provided.\n",
    "\n",
    "    Args:\n",
    "        root (str): path to the diroctroy where the images are separated into their classes by their folder\n",
    "        transform (Optional): Applies transform for the images to increase the variaty.\n",
    "    Return:\n",
    "        ImageFolder dataset.\n",
    "    \n",
    "    \"\"\"\n",
    "    if transform is None:\n",
    "        polices = [AutoAugmentPolicy.CIFAR10,\n",
    "                   AutoAugmentPolicy.IMAGENET, AutoAugmentPolicy.SVHN]\n",
    "        augments = [AutoAugment(policy) for policy in polices]\n",
    "        applier = RandomApply(transforms=augments, p=0.7)\n",
    "        composed = Compose([applier, ToTensor()])\n",
    "    else:\n",
    "        applier = transform\n",
    "    dataset = ImageFolder(root=root, transform=composed)\n",
    "    return dataset\n"
   ]
  },
  {
   "cell_type": "code",
   "execution_count": null,
   "metadata": {},
   "outputs": [],
   "source": [
    "dataset = load_data_from_ImageFolder(root=source_dir)\n",
    "len(dataset)\n"
   ]
  },
  {
   "cell_type": "code",
   "execution_count": null,
   "metadata": {},
   "outputs": [],
   "source": [
    "valid_split = 0.15\n",
    "batch_size = 1\n",
    "n_jobs = 12\n",
    "n_epochs = 50"
   ]
  },
  {
   "cell_type": "code",
   "execution_count": null,
   "metadata": {},
   "outputs": [],
   "source": [
    "from torch.utils.data.sampler import SubsetRandomSampler\n",
    "from torch.utils.data import DataLoader\n",
    "import numpy as np"
   ]
  },
  {
   "cell_type": "code",
   "execution_count": null,
   "metadata": {},
   "outputs": [],
   "source": [
    "\n",
    "num_train = len(dataset)\n",
    "indices = list(range(num_train))\n",
    "split = int(valid_split*num_train)\n",
    "\n",
    "valid_idx = np.random.choice(indices,size=split,replace=False)\n",
    "train_idx = list(set(indices)-set(valid_idx))\n",
    "\n",
    "train_sampler= SubsetRandomSampler(train_idx)\n",
    "valid_sampler = SubsetRandomSampler(valid_idx)\n",
    "\n",
    "train_loader = DataLoader(dataset, sampler=train_sampler, batch_size=batch_size,\n",
    "num_workers=n_jobs,pin_memory=True)\n",
    "valid_loader = DataLoader(dataset,sampler=valid_sampler, batch_size=batch_size\n",
    ", num_workers=n_jobs,pin_memory = True)"
   ]
  },
  {
   "cell_type": "code",
   "execution_count": null,
   "metadata": {},
   "outputs": [],
   "source": [
    "sample = next(iter(train_loader))\n",
    "type(sample)"
   ]
  },
  {
   "cell_type": "code",
   "execution_count": null,
   "metadata": {},
   "outputs": [],
   "source": [
    "sample[0].shape"
   ]
  }
 ],
 "metadata": {
  "interpreter": {
   "hash": "0bf86de19e6908e90672858f1bf900381ae778a88ca47b5d35f6eb2214d9bffa"
  },
  "kernelspec": {
   "display_name": "Python 3.9.7 64-bit ('umu-pytorch': conda)",
   "name": "python3"
  },
  "language_info": {
   "codemirror_mode": {
    "name": "ipython",
    "version": 3
   },
   "file_extension": ".py",
   "mimetype": "text/x-python",
   "name": "python",
   "nbconvert_exporter": "python",
   "pygments_lexer": "ipython3",
   "version": "3.9.7"
  },
  "orig_nbformat": 4
 },
 "nbformat": 4,
 "nbformat_minor": 2
}
