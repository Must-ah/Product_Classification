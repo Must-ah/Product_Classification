{
 "cells": [
  {
   "cell_type": "code",
   "execution_count": 1,
   "source": [
    "import os\n",
    "source_dir = \"../Dataset_Willys_2020/ORGINAL/\"\n",
    "target_dir = os.listdir(source_dir)\n",
    "print(target_dir)\n"
   ],
   "outputs": [
    {
     "output_type": "stream",
     "name": "stdout",
     "text": [
      "['husdjur', 'fisk_skaldjur', 'apotek', 'mejeri_ost_agg', 'halsa_skonhet', 'skafferi', 'vegetariskt', 'barn', 'chicken_chark_meat', 'fardigmat', 'tidningar_bocker', 'frukt_gront', 'blommor', 'fryst', 'glass_godis_snacks', 'tradgard', 'hem_stad', 'brod_kakor']\n"
     ]
    }
   ],
   "metadata": {}
  },
  {
   "cell_type": "code",
   "execution_count": 2,
   "source": [
    "from torchvision.datasets import ImageFolder\n",
    "from torchvision.transforms import AutoAugmentPolicy, AutoAugment,RandomApply   \n",
    "\n",
    "polices = [AutoAugmentPolicy.CIFAR10,AutoAugmentPolicy.IMAGENET, AutoAugmentPolicy.SVHN]\n",
    "augments = [AutoAugment(policy) for policy in polices]\n",
    "\n",
    "applier = RandomApply(transforms=augments, p=[0.2, 0.4, 0.4])\n",
    "dataset = ImageFolder(root=source_dir, transform=applier)\n"
   ],
   "outputs": [],
   "metadata": {}
  },
  {
   "cell_type": "code",
   "execution_count": 3,
   "source": [
    "valid_split = 0.15\n",
    "batch_size = 1\n",
    "n_jobs = 12\n",
    "n_epochs = 50"
   ],
   "outputs": [],
   "metadata": {}
  },
  {
   "cell_type": "code",
   "execution_count": 4,
   "source": [
    "from torch.utils.data.sampler import SubsetRandomSampler\n",
    "from torch.utils.data import DataLoader\n",
    "import numpy as np"
   ],
   "outputs": [],
   "metadata": {}
  },
  {
   "cell_type": "code",
   "execution_count": 5,
   "source": [
    "num_train = len(dataset)\n",
    "indices = list(range(num_train))\n",
    "split = int(valid_split*num_train)\n",
    "\n",
    "valid_idx = np.random.choice(indices,size=split,replace=False)\n",
    "train_idx = list(set(indices)-set(valid_idx))\n",
    "\n",
    "train_sampler= SubsetRandomSampler(train_idx)\n",
    "valid_sampler = SubsetRandomSampler(valid_idx)\n",
    "\n",
    "train_loader = DataLoader(dataset, sampler=train_sampler, batch_size=batch_size,\n",
    "num_workers=n_jobs,pin_memory=True)\n",
    "valid_loader = DataLoader(dataset,sampler=valid_sampler, batch_size=batch_size\n",
    ", num_workers=n_jobs,pin_memory = True)"
   ],
   "outputs": [],
   "metadata": {}
  },
  {
   "cell_type": "code",
   "execution_count": 7,
   "source": [
    "%%writefile load_data.py\n",
    "\n",
    "from typing import Optional, Callable\n",
    "\n",
    "from torchvision.transforms import AutoAugmentPolicy, AutoAugment, RandomApply\n",
    "from torchvision.datasets import ImageFolder\n",
    "\n",
    "\n",
    "\n",
    "\n",
    "def load_data_from_ImageFolder(root:str, transform:Optional[Callable]=None):\n",
    "    \"\"\"Takes path of the root directory for the images\n",
    "    creates a dataset using pytorch ImageFolder class\n",
    "    using AutoAugment for CIFAR,IMAGENET, SVHN with probability \n",
    "    p=[0.2, 0.4, 0.4] if transform is not provided.\n",
    "\n",
    "    Args:\n",
    "        root (str): path to the diroctroy where the images are separated into their classes by their folder\n",
    "        transform (Optional): Applies transform for the images to increase the variaty.\n",
    "    Return:\n",
    "        ImageFolder dataset.\n",
    "    \n",
    "    \"\"\"\n",
    "    if transform is None:\n",
    "        polices = [AutoAugmentPolicy.CIFAR10,\n",
    "                   AutoAugmentPolicy.IMAGENET, AutoAugmentPolicy.SVHN]\n",
    "        augments = [AutoAugment(policy) for policy in polices]\n",
    "        applier = RandomApply(transforms=augments, p=[0.2, 0.4, 0.4])\n",
    "    else:\n",
    "        applier = transform\n",
    "    dataset = ImageFolder(root=source_dir, transform=applier)\n",
    "    return dataset\n"
   ],
   "outputs": [
    {
     "output_type": "stream",
     "name": "stdout",
     "text": [
      "Writing load_data.py\n"
     ]
    }
   ],
   "metadata": {}
  }
 ],
 "metadata": {
  "orig_nbformat": 4,
  "language_info": {
   "name": "python",
   "version": "3.9.2",
   "mimetype": "text/x-python",
   "codemirror_mode": {
    "name": "ipython",
    "version": 3
   },
   "pygments_lexer": "ipython3",
   "nbconvert_exporter": "python",
   "file_extension": ".py"
  },
  "kernelspec": {
   "name": "python3",
   "display_name": "Python 3.9.2 64-bit ('umu-pytorch': conda)"
  },
  "interpreter": {
   "hash": "52604bc78b09674e91f4fa9bc994d961bb2ba050c8b816e2c0e907b2766bc32f"
  }
 },
 "nbformat": 4,
 "nbformat_minor": 2
}